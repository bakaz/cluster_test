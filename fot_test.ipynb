{
 "cells": [
  {
   "cell_type": "code",
   "execution_count": 24,
   "metadata": {
    "collapsed": true
   },
   "outputs": [],
   "source": [
    "from sklearn import datasets\n",
    "from sklearn import tree, svm , naive_bayes\n",
    "from sklearn.model_selection import train_test_split\n",
    "from sklearn.utils import Bunch\n",
    "import pandas as pd\n",
    "import numpy as np\n"
   ]
  },
  {
   "cell_type": "code",
   "execution_count": 25,
   "outputs": [],
   "source": [
    "def _get_rbbdata(data):\n",
    "    \"\"\"\n",
    "    获取双色球特征值\n",
    "    :return:\n",
    "    \"\"\"\n",
    "    # row = data.shape[0]\n",
    "    col = data.shape[1]\n",
    "    data_r = data.iloc[:, :col-1]\n",
    "    data_np = np.array(data_r)\n",
    "    return data_np\n",
    "\n",
    "\n",
    "def _get_rbbtarget(data):\n",
    "    \"\"\"\n",
    "    获取双色球目标值\n",
    "    :return:\n",
    "    \"\"\"\n",
    "    # row = data.shape[0]\n",
    "    col = data.shape[1]\n",
    "    data_b = data.iloc[:, col-1:col]\n",
    "    data_np = np.array(data_b)\n",
    "    return data_np\n",
    "\n",
    "\n",
    "def _get_rbbdescr(data):\n",
    "    \"\"\"\n",
    "    获取数据集描述\n",
    "    :return:\n",
    "    \"\"\"\n",
    "    text = \"本数据集为final数据，样本数量：{}；\" \\\n",
    "           \"特征数量：{}；目标值数量：{}；无缺失数据\" \\\n",
    "           \"\".format(data.index.size, data.columns.size - 1, 1)\n",
    "    return text\n",
    "\n",
    "\n",
    "def _get_feature_names(data):\n",
    "    \"\"\"\n",
    "    获取特征名字\n",
    "    :return:\n",
    "    \"\"\"\n",
    "    col = data.shape[1]\n",
    "    fnames = data.columns[:col-1].tolist()\n",
    "    return fnames\n",
    "\n",
    "\n",
    "def _get_target_names(data):\n",
    "    \"\"\"\n",
    "    获取目标值名称\n",
    "    :return:\n",
    "    \"\"\"\n",
    "    col = data.shape[1]\n",
    "    tnames = data.columns[col-1:].tolist()\n",
    "    return tnames\n",
    "\n",
    "def load_sklearn_dataset():\n",
    "    data_csv = pd.read_csv(\"test_final.csv\")\n",
    "    rbb = Bunch()\n",
    "    rbb.data = _get_rbbdata(data_csv)\n",
    "    rbb.target = _get_rbbtarget(data_csv)\n",
    "    rbb.DESCR = _get_rbbdescr(data_csv)\n",
    "    rbb.feature_names = _get_feature_names(data_csv)\n",
    "    rbb.target_names = _get_target_names(data_csv)\n",
    "    return rbb"
   ],
   "metadata": {
    "collapsed": false,
    "pycharm": {
     "name": "#%%\n"
    }
   }
  },
  {
   "cell_type": "code",
   "execution_count": 26,
   "outputs": [
    {
     "data": {
      "text/plain": "array([1], dtype=int64)"
     },
     "execution_count": 26,
     "metadata": {},
     "output_type": "execute_result"
    }
   ],
   "source": [
    "# wine = datasets.load_wine()\n",
    "# print(wine)\n",
    "rbb = load_sklearn_dataset()\n",
    "X = rbb.data\n",
    "Y = rbb.target\n",
    "clf = tree.DecisionTreeClassifier() #决策树\n",
    "clf = clf.fit(X, Y)\n",
    "clf.predict([[0,0,0,0]])\n"
   ],
   "metadata": {
    "collapsed": false,
    "pycharm": {
     "name": "#%%\n"
    }
   }
  },
  {
   "cell_type": "code",
   "execution_count": 27,
   "outputs": [
    {
     "data": {
      "text/plain": "array([1], dtype=int64)"
     },
     "execution_count": 27,
     "metadata": {},
     "output_type": "execute_result"
    }
   ],
   "source": [
    "clf2 = naive_bayes.GaussianNB()\n",
    "clf2 = clf2.fit(X, Y.ravel())\n",
    "clf2.predict([[0,0,0,0]])\n"
   ],
   "metadata": {
    "collapsed": false,
    "pycharm": {
     "name": "#%%\n"
    }
   }
  },
  {
   "cell_type": "code",
   "execution_count": 28,
   "outputs": [
    {
     "data": {
      "text/plain": "array([0], dtype=int64)"
     },
     "execution_count": 28,
     "metadata": {},
     "output_type": "execute_result"
    }
   ],
   "source": [
    "clf3 = svm.SVC()\n",
    "clf3 = clf3.fit(X, Y.ravel())\n",
    "clf3.predict([[0,0,0,0]])"
   ],
   "metadata": {
    "collapsed": false,
    "pycharm": {
     "name": "#%%\n"
    }
   }
  }
 ],
 "metadata": {
  "kernelspec": {
   "display_name": "Python 3",
   "language": "python",
   "name": "python3"
  },
  "language_info": {
   "codemirror_mode": {
    "name": "ipython",
    "version": 2
   },
   "file_extension": ".py",
   "mimetype": "text/x-python",
   "name": "python",
   "nbconvert_exporter": "python",
   "pygments_lexer": "ipython2",
   "version": "2.7.6"
  }
 },
 "nbformat": 4,
 "nbformat_minor": 0
}