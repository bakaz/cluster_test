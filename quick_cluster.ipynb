{
 "cells": [
  {
   "cell_type": "code",
   "execution_count": 33,
   "metadata": {
    "collapsed": true
   },
   "outputs": [],
   "source": [
    "import io\n",
    "import os\n",
    "import time\n",
    "import jieba\n",
    "import pandas as pd\n",
    "import numpy as np\n",
    "import re\n",
    "import codecs\n",
    "import jieba.analyse"
   ]
  },
  {
   "cell_type": "code",
   "execution_count": 34,
   "outputs": [],
   "source": [
    "def load_json2df(path):\n",
    "    # 读取json数据到\n",
    "    panda_list = pd.read_json(path)\n",
    "    # print(panda_list)\n",
    "    return panda_list"
   ],
   "metadata": {
    "collapsed": false,
    "pycharm": {
     "name": "#%%\n"
    }
   }
  },
  {
   "cell_type": "code",
   "execution_count": 35,
   "outputs": [],
   "source": [
    "def content_cut_html(read):\n",
    "    # 切掉html标签\n",
    "    # print(read)\n",
    "    # read = '<html>'\n",
    "    dr = re.compile(r'<[^>]+>', re.S)\n",
    "    dd = dr.sub('',read)\n",
    "    # print(dd)\n",
    "    # time.sleep(5)\n",
    "    return dd"
   ],
   "metadata": {
    "collapsed": false,
    "pycharm": {
     "name": "#%%\n"
    }
   }
  },
  {
   "cell_type": "code",
   "execution_count": 36,
   "outputs": [],
   "source": [
    "def test_file_exist(txt_path):\n",
    "    if ~os.path.exists(txt_path):\n",
    "        with open(txt_path,'w+') as f:\n",
    "            f.close()"
   ],
   "metadata": {
    "collapsed": false,
    "pycharm": {
     "name": "#%%\n"
    }
   }
  },
  {
   "cell_type": "code",
   "execution_count": 37,
   "outputs": [],
   "source": [
    "jieba_tfidf_stopwords_list = []\n",
    "def jieba_tfidf_extract(sentence,path,pos):\n",
    "    # 这里生成的应该是list,也就是进来的是一个str 出去的是个list,可以生成一个 也就是嘴普通的，也可以生成两个，也就是两层链表\n",
    "    # keywords = jieba.analyse.extract_tags(sentence, topK=20, withWeight=True, allowPOS=('n','nr','ns'))\n",
    "    # 这里最好根据名词对照表进行对应\n",
    "    keywords = jieba.analyse.extract_tags(sentence, topK=20, withWeight=True, allowPOS =pos)\n",
    "    # print(keywords)\n",
    "    # time.sleep(1)\n",
    "    jieba_tfidf_stopwords_list.append(keywords)\n",
    "    with codecs.open(path,'a','utf-8') as f:\n",
    "        f.write(str(keywords)+'\\n')\n",
    "        f.close()\n",
    "    # print(keywords)\n",
    "    # time.sleep(0.1)\n",
    "    return sentence # 返回原来的值"
   ],
   "metadata": {
    "collapsed": false,
    "pycharm": {
     "name": "#%%\n"
    }
   }
  },
  {
   "cell_type": "code",
   "execution_count": 38,
   "outputs": [],
   "source": [
    "def make_stop_word():\n",
    "\n",
    "    return"
   ],
   "metadata": {
    "collapsed": false,
    "pycharm": {
     "name": "#%%\n"
    }
   }
  },
  {
   "cell_type": "code",
   "execution_count": 39,
   "outputs": [],
   "source": [
    "def stop_words_list(filepath):\n",
    "    # 返回停用词列表\n",
    "    stopwords = [line.strip() for line in codecs.open('stoped.txt', 'r', 'utf-8').readlines()]\n",
    "    return stopwords"
   ],
   "metadata": {
    "collapsed": false,
    "pycharm": {
     "name": "#%%\n"
    }
   }
  },
  {
   "cell_type": "code",
   "execution_count": 40,
   "outputs": [],
   "source": [
    "raw_cluster_path = 'data/finance.json'\n",
    "raw_panda = load_json2df(raw_cluster_path)\n",
    "\n",
    "cluster_list = ['title','content']\n",
    "for _ in cluster_list:\n",
    "    raw_panda[_] = raw_panda[_].map(content_cut_html)\n",
    "    raw_panda[_] = raw_panda[_].apply(lambda x:x.replace('\\n', '').replace('\\r','').strip())\n",
    "    # raw_panda[_] = raw_panda[_].apply(jieba_tfidf_extract)\n",
    "\n",
    "jieba_txt_path = 'jieba_tfidf_stopwords_list'\n",
    "\n",
    "txt_list = ['a','as','ad','d','m','q','r','p','c','u']\n",
    "for _ in txt_list:\n",
    "    temp_path = jieba_txt_path+'_'+_+'_'+'.txt'\n",
    "    test_file_exist(temp_path)\n",
    "    raw_panda['content'] = raw_panda['content'].apply(jieba_tfidf_extract,args=(temp_path,_ ,) )\n",
    "\n",
    "\n",
    "# test_file_exist(jieba_txt_path) #测试文件是不是存在\n",
    "\n",
    "\n",
    "\n",
    "# jieba_tfidf_extract()\n",
    "# print(raw_panda)\n",
    "# read_file_cut()"
   ],
   "metadata": {
    "collapsed": false,
    "pycharm": {
     "name": "#%%\n"
    }
   }
  }
 ],
 "metadata": {
  "kernelspec": {
   "display_name": "Python 3",
   "language": "python",
   "name": "python3"
  },
  "language_info": {
   "codemirror_mode": {
    "name": "ipython",
    "version": 2
   },
   "file_extension": ".py",
   "mimetype": "text/x-python",
   "name": "python",
   "nbconvert_exporter": "python",
   "pygments_lexer": "ipython2",
   "version": "2.7.6"
  }
 },
 "nbformat": 4,
 "nbformat_minor": 0
}